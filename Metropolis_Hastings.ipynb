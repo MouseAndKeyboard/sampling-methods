{
 "cells": [
  {
   "cell_type": "code",
   "execution_count": 39,
   "metadata": {},
   "outputs": [],
   "source": [
    "import numpy as np\n",
    "import math\n",
    "from numpy.random import default_rng"
   ]
  },
  {
   "cell_type": "code",
   "execution_count": 160,
   "metadata": {},
   "outputs": [],
   "source": [
    "# Proposal distribution\n",
    "def Q(previous_x):\n",
    "    return previous_x + rng.standard_normal(1)[0]\n",
    "\n",
    "def Q_density(new_x, given):\n",
    "    return (1/math.sqrt(2 * math.pi) ) * math.e**(-0.5 *((new_x - given)/1)**2)\n",
    "\n",
    "# Unnormalised probability distribution we want to sample from\n",
    "def P(x):\n",
    "    return math.e**(-0.5 *((x - 5)/5)**2)"
   ]
  },
  {
   "cell_type": "markdown",
   "metadata": {},
   "source": [
    "## Initialisation Step"
   ]
  },
  {
   "cell_type": "code",
   "execution_count": 161,
   "metadata": {},
   "outputs": [],
   "source": [
    "rng = default_rng()\n",
    "x_old = -10 # arbitrarily pick x_0 to be 0"
   ]
  },
  {
   "cell_type": "markdown",
   "metadata": {},
   "source": [
    "## Iterative Steps"
   ]
  },
  {
   "cell_type": "code",
   "execution_count": 162,
   "metadata": {},
   "outputs": [],
   "source": [
    "samples = []\n",
    "while len(samples) < 400000:\n",
    "    # Generate random candidate x':\n",
    "    proposal = g(x_old)\n",
    "    # calculate acceptance probability\n",
    "    P_ratio = P(proposal)/P(x_old)\n",
    "    Q_ratio = Q_density(x_old, proposal)/Q_density(proposal, x_old)\n",
    "    acceptance_prob = min(1, P_ratio * Q_ratio)\n",
    "    # accept or reject\n",
    "    u = rng.random()\n",
    "    if (u <= acceptance_prob):\n",
    "        x_old = proposal\n",
    "        samples.append(proposal)\n",
    "    else:\n",
    "        x_old = x_old\n",
    "        samples.append(x_old)\n",
    "    \n",
    "    \n",
    "    \n"
   ]
  },
  {
   "cell_type": "code",
   "execution_count": 163,
   "metadata": {},
   "outputs": [],
   "source": [
    "from matplotlib import pyplot as plt"
   ]
  },
  {
   "cell_type": "markdown",
   "metadata": {},
   "source": []
  },
  {
   "cell_type": "code",
   "execution_count": 164,
   "metadata": {},
   "outputs": [
    {
     "data": {
      "text/plain": [
       "(array([3.49000e+02, 5.44600e+03, 2.97410e+04, 8.87110e+04, 1.31377e+05,\n",
       "        9.81680e+04, 3.82700e+04, 7.15000e+03, 6.98000e+02, 9.00000e+01]),\n",
       " array([-14.53051197, -10.2548803 ,  -5.97924863,  -1.70361695,\n",
       "          2.57201472,   6.84764639,  11.12327806,  15.39890973,\n",
       "         19.67454141,  23.95017308,  28.22580475]),\n",
       " <BarContainer object of 10 artists>)"
      ]
     },
     "execution_count": 164,
     "metadata": {},
     "output_type": "execute_result"
    },
    {
     "data": {
      "image/png": "[encoded data removed]",
      "text/plain": [
       "<Figure size 432x288 with 1 Axes>"
      ]
     },
     "metadata": {
      "needs_background": "light"
     },
     "output_type": "display_data"
    }
   ],
   "source": [
    "plt.hist(samples)"
   ]
  },
  {
   "cell_type": "code",
   "execution_count": null,
   "metadata": {},
   "outputs": [],
   "source": []
  },
  {
   "cell_type": "code",
   "execution_count": null,
   "metadata": {},
   "outputs": [],
   "source": []
  },
  {
   "cell_type": "code",
   "execution_count": null,
   "metadata": {},
   "outputs": [],
   "source": []
  }
 ],
 "metadata": {
  "kernelspec": {
   "display_name": "Python 3",
   "language": "python",
   "name": "python3"
  },
  "language_info": {
   "codemirror_mode": {
    "name": "ipython",
    "version": 3
   },
   "file_extension": ".py",
   "mimetype": "text/x-python",
   "name": "python",
   "nbconvert_exporter": "python",
   "pygments_lexer": "ipython3",
   "version": "3.8.5"
  }
 },
 "nbformat": 4,
 "nbformat_minor": 4
}
