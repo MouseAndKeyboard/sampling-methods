{
 "cells": [
  {
   "cell_type": "code",
   "execution_count": 8,
   "metadata": {},
   "outputs": [],
   "source": [
    "import numpy as np\n",
    "import math\n",
    "from numpy.random import default_rng"
   ]
  },
  {
   "cell_type": "code",
   "execution_count": 9,
   "metadata": {},
   "outputs": [],
   "source": [
    "# Proposal distribution\n",
    "def Q(previous_x):\n",
    "    return previous_x + rng.standard_normal(1)[0]\n",
    "\n",
    "def Q_density(new_x, given):\n",
    "    return (1/math.sqrt(2 * math.pi) ) * math.e**(-0.5 *((new_x - given)/1)**2)\n",
    "\n",
    "# Unnormalised probability distribution we want to sample from\n",
    "def P(x):\n",
    "    return math.e**(-0.5 *((x - 5)/5)**2)"
   ]
  },
  {
   "cell_type": "markdown",
   "metadata": {},
   "source": [
    "## Initialisation Step"
   ]
  },
  {
   "cell_type": "code",
   "execution_count": 10,
   "metadata": {},
   "outputs": [],
   "source": [
    "rng = default_rng()\n",
    "x_old = -10 # arbitrarily pick x_0 to be 0"
   ]
  },
  {
   "cell_type": "markdown",
   "metadata": {},
   "source": [
    "## Iterative Steps"
   ]
  },
  {
   "cell_type": "code",
   "execution_count": 20,
   "metadata": {},
   "outputs": [],
   "source": [
    "samples = []\n",
    "while len(samples) < 4000000:\n",
    "    # Generate random candidate x':\n",
    "    proposal = Q(x_old)\n",
    "    # calculate acceptance probability\n",
    "    P_ratio = P(proposal)/P(x_old)\n",
    "    Q_ratio = Q_density(x_old, proposal)/Q_density(proposal, x_old)\n",
    "    acceptance_prob = min(1, P_ratio * Q_ratio)\n",
    "    # accept or reject\n",
    "    u = rng.random()\n",
    "    if (u <= acceptance_prob):\n",
    "        x_old = proposal\n",
    "        samples.append(proposal)\n",
    "    else:\n",
    "        x_old = x_old\n",
    "        samples.append(x_old)\n",
    "    \n",
    "    \n",
    "    \n"
   ]
  },
  {
   "cell_type": "code",
   "execution_count": 21,
   "metadata": {},
   "outputs": [],
   "source": [
    "from matplotlib import pyplot as plt"
   ]
  },
  {
   "cell_type": "markdown",
   "metadata": {},
   "source": []
  },
  {
   "cell_type": "code",
   "execution_count": 22,
   "metadata": {},
   "outputs": [
    {
     "data": {
      "text/plain": [
       "(array([4.85091500e-07, 0.00000000e+00, 1.21272875e-06, 3.88073200e-06,\n",
       "        7.27637251e-06, 2.15865718e-05, 4.53560553e-05, 1.09145588e-04,\n",
       "        2.22414453e-04, 4.41675811e-04, 8.54246132e-04, 1.50305601e-03,\n",
       "        2.63162139e-03, 4.45993125e-03, 7.16043564e-03, 1.09536086e-02,\n",
       "        1.61836226e-02, 2.27711652e-02, 3.10584684e-02, 4.00404226e-02,\n",
       "        4.99952279e-02, 5.99396036e-02, 6.82902112e-02, 7.51430989e-02,\n",
       "        7.89365144e-02, 7.96862233e-02, 7.66594949e-02, 7.07435615e-02,\n",
       "        6.29435327e-02, 5.36557283e-02, 4.39272183e-02, 3.43587884e-02,\n",
       "        2.55478290e-02, 1.83580453e-02, 1.27030911e-02, 8.33314434e-03,\n",
       "        5.31175193e-03, 3.19214462e-03, 1.86202372e-03, 1.05507401e-03,\n",
       "        5.40391931e-04, 2.85233802e-04, 1.37765986e-04, 5.86960716e-05,\n",
       "        2.81353070e-05, 1.21272875e-05, 6.06364376e-06, 1.21272875e-06,\n",
       "        9.70183001e-07, 4.85091500e-07]),\n",
       " array([-20.95166886, -19.92093548, -18.89020211, -17.85946873,\n",
       "        -16.82873535, -15.79800198, -14.7672686 , -13.73653523,\n",
       "        -12.70580185, -11.67506847, -10.6443351 ,  -9.61360172,\n",
       "         -8.58286834,  -7.55213497,  -6.52140159,  -5.49066822,\n",
       "         -4.45993484,  -3.42920146,  -2.39846809,  -1.36773471,\n",
       "         -0.33700134,   0.69373204,   1.72446542,   2.75519879,\n",
       "          3.78593217,   4.81666555,   5.84739892,   6.8781323 ,\n",
       "          7.90886567,   8.93959905,   9.97033243,  11.0010658 ,\n",
       "         12.03179918,  13.06253256,  14.09326593,  15.12399931,\n",
       "         16.15473268,  17.18546606,  18.21619944,  19.24693281,\n",
       "         20.27766619,  21.30839957,  22.33913294,  23.36986632,\n",
       "         24.40059969,  25.43133307,  26.46206645,  27.49279982,\n",
       "         28.5235332 ,  29.55426658,  30.58499995]),\n",
       " <BarContainer object of 50 artists>)"
      ]
     },
     "execution_count": 22,
     "metadata": {},
     "output_type": "execute_result"
    },
    {
     "data": {
      "image/png": "[encoded data removed]",
      "text/plain": [
       "<Figure size 432x288 with 1 Axes>"
      ]
     },
     "metadata": {
      "needs_background": "light"
     },
     "output_type": "display_data"
    }
   ],
   "source": [
    "plt.hist(samples, bins=50, density=True, alpha=0.5)\n",
    "plt.hist(rng.standard_normal(4000000) * 5 + 5, bins=50, density=True, alpha=0.5)"
   ]
  },
  {
   "cell_type": "code",
   "execution_count": null,
   "metadata": {},
   "outputs": [],
   "source": []
  },
  {
   "cell_type": "code",
   "execution_count": null,
   "metadata": {},
   "outputs": [],
   "source": []
  },
  {
   "cell_type": "code",
   "execution_count": null,
   "metadata": {},
   "outputs": [],
   "source": []
  }
 ],
 "metadata": {
  "kernelspec": {
   "display_name": "Python 3",
   "language": "python",
   "name": "python3"
  },
  "language_info": {
   "codemirror_mode": {
    "name": "ipython",
    "version": 3
   },
   "file_extension": ".py",
   "mimetype": "text/x-python",
   "name": "python",
   "nbconvert_exporter": "python",
   "pygments_lexer": "ipython3",
   "version": "3.8.5"
  }
 },
 "nbformat": 4,
 "nbformat_minor": 4
}
