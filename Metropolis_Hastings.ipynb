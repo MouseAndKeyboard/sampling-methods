{
 "cells": [
  {
   "cell_type": "code",
   "execution_count": 23,
   "metadata": {},
   "outputs": [],
   "source": [
    "import numpy as np\n",
    "import math\n",
    "from numpy.random import default_rng\n",
    "rng = default_rng()"
   ]
  },
  {
   "cell_type": "code",
   "execution_count": 24,
   "metadata": {},
   "outputs": [],
   "source": [
    "# Proposal distribution\n",
    "def Q(previous_x):\n",
    "    return previous_x + rng.standard_normal(1)[0]\n",
    "\n",
    "def Q_density(new_x, given):\n",
    "    return (1/math.sqrt(2 * math.pi) ) * math.e**(-0.5 *((new_x - given)/1)**2)\n",
    "\n",
    "# Unnormalised probability distribution we want to sample from\n",
    "def P(x):\n",
    "    return math.e**(-0.5 *((x - 5)/5)**2)"
   ]
  },
  {
   "cell_type": "markdown",
   "metadata": {},
   "source": [
    "## Initialisation Step"
   ]
  },
  {
   "cell_type": "code",
   "execution_count": 25,
   "metadata": {},
   "outputs": [],
   "source": [
    "\n",
    "x_old = -10 # arbitrarily pick x_0 to be 0"
   ]
  },
  {
   "cell_type": "markdown",
   "metadata": {},
   "source": [
    "## Iterative Steps"
   ]
  },
  {
   "cell_type": "code",
   "execution_count": 31,
   "metadata": {},
   "outputs": [],
   "source": [
    "samples = []\n",
    "while len(samples) < 400000:\n",
    "    # Generate random candidate x':\n",
    "    proposal = Q(x_old)\n",
    "    # calculate acceptance probability\n",
    "    P_ratio = P(proposal)/P(x_old)\n",
    "    Q_ratio = Q_density(x_old, proposal)/Q_density(proposal, x_old)\n",
    "    acceptance_prob = min(1, P_ratio * Q_ratio)\n",
    "    # accept or reject\n",
    "    u = rng.random()\n",
    "    if (u <= acceptance_prob):\n",
    "        x_old = proposal\n",
    "        samples.append(proposal)\n",
    "    else:\n",
    "        x_old = x_old\n",
    "        samples.append(x_old)\n",
    "    \n",
    "    \n",
    "    \n"
   ]
  },
  {
   "cell_type": "code",
   "execution_count": 32,
   "metadata": {},
   "outputs": [],
   "source": [
    "from matplotlib import pyplot as plt"
   ]
  },
  {
   "cell_type": "markdown",
   "metadata": {},
   "source": []
  },
  {
   "cell_type": "code",
   "execution_count": 30,
   "metadata": {},
   "outputs": [
    {
     "data": {
      "text/plain": [
       "(array([2.55313577e-06, 0.00000000e+00, 0.00000000e+00, 2.55313577e-06,\n",
       "        0.00000000e+00, 5.10627155e-06, 1.53188146e-05, 7.65940732e-06,\n",
       "        5.10627155e-05, 9.70191594e-05, 2.06803998e-04, 3.47226465e-04,\n",
       "        7.55728189e-04, 1.40422468e-03, 2.27995025e-03, 3.71736569e-03,\n",
       "        6.09944137e-03, 9.21937328e-03, 1.35852355e-02, 1.94548946e-02,\n",
       "        2.62207044e-02, 3.43881857e-02, 4.36050059e-02, 5.25767250e-02,\n",
       "        6.20284336e-02, 6.95295465e-02, 7.54375027e-02, 7.95557107e-02,\n",
       "        7.94433728e-02, 7.69183215e-02, 7.14316327e-02, 6.42062585e-02,\n",
       "        5.48234845e-02, 4.62296295e-02, 3.68825994e-02, 2.78598176e-02,\n",
       "        2.09408196e-02, 1.45503208e-02, 1.02942434e-02, 6.63304674e-03,\n",
       "        4.35054336e-03, 2.59143281e-03, 1.60336927e-03, 9.37000829e-04,\n",
       "        4.64670711e-04, 2.88504343e-04, 9.70191594e-05, 7.40409375e-05,\n",
       "        2.55313577e-05, 1.53188146e-05]),\n",
       " array([-22.55332733, -21.5741393 , -20.59495126, -19.61576323,\n",
       "        -18.63657519, -17.65738716, -16.67819912, -15.69901109,\n",
       "        -14.71982306, -13.74063502, -12.76144699, -11.78225895,\n",
       "        -10.80307092,  -9.82388289,  -8.84469485,  -7.86550682,\n",
       "         -6.88631878,  -5.90713075,  -4.92794271,  -3.94875468,\n",
       "         -2.96956665,  -1.99037861,  -1.01119058,  -0.03200254,\n",
       "          0.94718549,   1.92637352,   2.90556156,   3.88474959,\n",
       "          4.86393763,   5.84312566,   6.8223137 ,   7.80150173,\n",
       "          8.78068976,   9.7598778 ,  10.73906583,  11.71825387,\n",
       "         12.6974419 ,  13.67662993,  14.65581797,  15.635006  ,\n",
       "         16.61419404,  17.59338207,  18.57257011,  19.55175814,\n",
       "         20.53094617,  21.51013421,  22.48932224,  23.46851028,\n",
       "         24.44769831,  25.42688634,  26.40607438]),\n",
       " <BarContainer object of 50 artists>)"
      ]
     },
     "execution_count": 30,
     "metadata": {},
     "output_type": "execute_result"
    },
    {
     "data": {
      "image/png": "[encoded data removed]",
      "text/plain": [
       "<Figure size 432x288 with 1 Axes>"
      ]
     },
     "metadata": {
      "needs_background": "light"
     },
     "output_type": "display_data"
    }
   ],
   "source": [
    "plt.hist(samples, bins=50, density=True, alpha=0.5)\n",
    "plt.hist(rng.standard_normal(400000) * 5 + 5, bins=50, density=True, alpha=0.5)"
   ]
  },
  {
   "cell_type": "code",
   "execution_count": null,
   "metadata": {},
   "outputs": [],
   "source": []
  },
  {
   "cell_type": "code",
   "execution_count": null,
   "metadata": {},
   "outputs": [],
   "source": []
  },
  {
   "cell_type": "code",
   "execution_count": null,
   "metadata": {},
   "outputs": [],
   "source": []
  }
 ],
 "metadata": {
  "kernelspec": {
   "display_name": "Python 3",
   "language": "python",
   "name": "python3"
  },
  "language_info": {
   "codemirror_mode": {
    "name": "ipython",
    "version": 3
   },
   "file_extension": ".py",
   "mimetype": "text/x-python",
   "name": "python",
   "nbconvert_exporter": "python",
   "pygments_lexer": "ipython3",
   "version": "3.8.5"
  }
 },
 "nbformat": 4,
 "nbformat_minor": 4
}
