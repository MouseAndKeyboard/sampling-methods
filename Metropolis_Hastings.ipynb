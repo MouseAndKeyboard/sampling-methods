{
 "cells": [
  {
   "cell_type": "code",
   "execution_count": 1,
   "metadata": {},
   "outputs": [],
   "source": [
    "import numpy as np\n",
    "import math\n",
    "from numpy.random import default_rng"
   ]
  },
  {
   "cell_type": "code",
   "execution_count": 2,
   "metadata": {},
   "outputs": [],
   "source": [
    "# Proposal distribution\n",
    "def Q(previous_x):\n",
    "    return previous_x + rng.standard_normal(1)[0]\n",
    "\n",
    "def Q_density(new_x, given):\n",
    "    return (1/math.sqrt(2 * math.pi) ) * math.e**(-0.5 *((new_x - given)/1)**2)\n",
    "\n",
    "# Unnormalised probability distribution we want to sample from\n",
    "def P(x):\n",
    "    return math.e**(-0.5 *((x - 5)/5)**2)"
   ]
  },
  {
   "cell_type": "markdown",
   "metadata": {},
   "source": [
    "## Initialisation Step"
   ]
  },
  {
   "cell_type": "code",
   "execution_count": 3,
   "metadata": {},
   "outputs": [],
   "source": [
    "rng = default_rng()\n",
    "x_old = -10 # arbitrarily pick x_0 to be 0"
   ]
  },
  {
   "cell_type": "markdown",
   "metadata": {},
   "source": [
    "## Iterative Steps"
   ]
  },
  {
   "cell_type": "code",
   "execution_count": 4,
   "metadata": {},
   "outputs": [],
   "source": [
    "samples = []\n",
    "while len(samples) < 400000:\n",
    "    # Generate random candidate x':\n",
    "    proposal = Q(x_old)\n",
    "    # calculate acceptance probability\n",
    "    P_ratio = P(proposal)/P(x_old)\n",
    "    Q_ratio = Q_density(x_old, proposal)/Q_density(proposal, x_old)\n",
    "    acceptance_prob = min(1, P_ratio * Q_ratio)\n",
    "    # accept or reject\n",
    "    u = rng.random()\n",
    "    if (u <= acceptance_prob):\n",
    "        x_old = proposal\n",
    "        samples.append(proposal)\n",
    "    else:\n",
    "        x_old = x_old\n",
    "        samples.append(x_old)\n",
    "    \n",
    "    \n",
    "    \n"
   ]
  },
  {
   "cell_type": "code",
   "execution_count": 5,
   "metadata": {},
   "outputs": [],
   "source": [
    "from matplotlib import pyplot as plt"
   ]
  },
  {
   "cell_type": "markdown",
   "metadata": {},
   "source": []
  },
  {
   "cell_type": "code",
   "execution_count": 6,
   "metadata": {},
   "outputs": [
    {
     "data": {
      "text/plain": [
       "(array([   252.,   2270.,  17673.,  63145., 117184., 116441.,  62166.,\n",
       "         17848.,   2858.,    163.]),\n",
       " array([-15.59887052, -11.48538692,  -7.37190331,  -3.2584197 ,\n",
       "          0.85506391,   4.96854751,   9.08203112,  13.19551473,\n",
       "         17.30899834,  21.42248194,  25.53596555]),\n",
       " <BarContainer object of 10 artists>)"
      ]
     },
     "execution_count": 6,
     "metadata": {},
     "output_type": "execute_result"
    },
    {
     "data": {
      "image/png": "[encoded data removed]",
      "text/plain": [
       "<Figure size 432x288 with 1 Axes>"
      ]
     },
     "metadata": {
      "needs_background": "light"
     },
     "output_type": "display_data"
    }
   ],
   "source": [
    "plt.hist(samples)"
   ]
  },
  {
   "cell_type": "code",
   "execution_count": null,
   "metadata": {},
   "outputs": [],
   "source": []
  },
  {
   "cell_type": "code",
   "execution_count": null,
   "metadata": {},
   "outputs": [],
   "source": []
  },
  {
   "cell_type": "code",
   "execution_count": null,
   "metadata": {},
   "outputs": [],
   "source": []
  }
 ],
 "metadata": {
  "kernelspec": {
   "display_name": "Python 3",
   "language": "python",
   "name": "python3"
  },
  "language_info": {
   "codemirror_mode": {
    "name": "ipython",
    "version": 3
   },
   "file_extension": ".py",
   "mimetype": "text/x-python",
   "name": "python",
   "nbconvert_exporter": "python",
   "pygments_lexer": "ipython3",
   "version": "3.8.5"
  }
 },
 "nbformat": 4,
 "nbformat_minor": 4
}
