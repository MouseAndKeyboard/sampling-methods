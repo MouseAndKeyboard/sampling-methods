{
 "cells": [
  {
   "cell_type": "code",
   "execution_count": 25,
   "metadata": {},
   "outputs": [],
   "source": [
    "import numpy as np\n",
    "import math\n",
    "from numpy.random import default_rng\n",
    "rng = default_rng()"
   ]
  },
  {
   "cell_type": "markdown",
   "metadata": {},
   "source": [
    "P(x1, x2) is the density we're actually interested in sampling from.\n",
    "But for computational reasons, this is annoying/hard.\n",
    "\n",
    "We know how to sample from: \n",
    "\n",
    "P(x1 | x2) and P(x2 | x1) easily though."
   ]
  },
  {
   "cell_type": "code",
   "execution_count": 34,
   "metadata": {},
   "outputs": [],
   "source": [
    "def P_given_x2(x1, given_x2):\n",
    "    return rng.standard_normal(1)[0] * given_x2\n",
    "\n",
    "def P_given_x1(x1_given, x2):\n",
    "    return rng.standard_normal(1)[0] + x1_given/2"
   ]
  },
  {
   "cell_type": "code",
   "execution_count": 35,
   "metadata": {},
   "outputs": [],
   "source": [
    "x1s = []\n",
    "x2s = []\n",
    "prev_x1 = 0\n",
    "prev_x2 = 0\n",
    "\n",
    "for T in range(10000):\n",
    "        new_x1 = P_given_x2(prev_x1, prev_x2)\n",
    "        new_x2 = P_given_x1(new_x1, prev_x2)\n",
    "        x1s.append(new_x1)\n",
    "        x2s.append(new_x2)\n",
    "        prev_x1 = new_x1\n",
    "        prev_x2 = new_x2"
   ]
  },
  {
   "cell_type": "code",
   "execution_count": 36,
   "metadata": {},
   "outputs": [],
   "source": [
    "from matplotlib import pyplot as plt"
   ]
  },
  {
   "cell_type": "code",
   "execution_count": 37,
   "metadata": {},
   "outputs": [
    {
     "data": {
      "text/plain": [
       "<matplotlib.collections.PathCollection at 0x7f2638e57220>"
      ]
     },
     "execution_count": 37,
     "metadata": {},
     "output_type": "execute_result"
    },
    {
     "data": {
      "image/png": "[encoded data removed]",
      "text/plain": [
       "<Figure size 432x288 with 1 Axes>"
      ]
     },
     "metadata": {
      "needs_background": "light"
     },
     "output_type": "display_data"
    }
   ],
   "source": [
    "plt.scatter(x1s, x2s)"
   ]
  },
  {
   "cell_type": "code",
   "execution_count": null,
   "metadata": {},
   "outputs": [],
   "source": []
  }
 ],
 "metadata": {
  "kernelspec": {
   "display_name": "Python 3",
   "language": "python",
   "name": "python3"
  },
  "language_info": {
   "codemirror_mode": {
    "name": "ipython",
    "version": 3
   },
   "file_extension": ".py",
   "mimetype": "text/x-python",
   "name": "python",
   "nbconvert_exporter": "python",
   "pygments_lexer": "ipython3",
   "version": "3.8.5"
  }
 },
 "nbformat": 4,
 "nbformat_minor": 4
}
