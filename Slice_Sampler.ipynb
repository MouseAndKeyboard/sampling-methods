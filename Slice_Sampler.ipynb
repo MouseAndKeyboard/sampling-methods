{
 "cells": [
  {
   "cell_type": "markdown",
   "metadata": {},
   "source": [
    "# Slice Sampling"
   ]
  },
  {
   "cell_type": "code",
   "execution_count": 8,
   "metadata": {},
   "outputs": [],
   "source": [
    "import numpy as np\n",
    "import math\n",
    "from matplotlib import pyplot as plt\n",
    "from numpy.random import default_rng\n",
    "rng = default_rng()"
   ]
  },
  {
   "cell_type": "code",
   "execution_count": 70,
   "metadata": {},
   "outputs": [],
   "source": [
    "# Unnormalised probability distribution we want to sample from\n",
    "def P(x):\n",
    "    return math.pow(math.e, -math.pow(math.sin(1/4*x), 2)) * math.pow(1.01,-math.pow(x, 2))  "
   ]
  },
  {
   "cell_type": "code",
   "execution_count": 71,
   "metadata": {},
   "outputs": [
    {
     "data": {
      "text/plain": [
       "[<matplotlib.lines.Line2D at 0x7fae9c55da00>]"
      ]
     },
     "execution_count": 71,
     "metadata": {},
     "output_type": "execute_result"
    },
    {
     "data": {
      "image/png": "[encoded data removed]",
      "text/plain": [
       "<Figure size 432x288 with 1 Axes>"
      ]
     },
     "metadata": {
      "needs_background": "light"
     },
     "output_type": "display_data"
    }
   ],
   "source": [
    "xs = np.linspace(-40,40, num=1000)\n",
    "ys = np.array(list(map(P, xs)))\n",
    "plt.plot(xs, ys)"
   ]
  },
  {
   "cell_type": "code",
   "execution_count": 74,
   "metadata": {},
   "outputs": [],
   "source": [
    "STEP_SIZE = 1\n",
    "\n",
    "# \"Stepping Out\" method for creating the interval\n",
    "def create_interval(x, u):\n",
    "    r = rng.uniform(0,1)\n",
    "    x_l = x - r * STEP_SIZE \n",
    "    x_r = x + (1 - r) * STEP_SIZE \n",
    "    while P(x_l) > u:\n",
    "        x_l = x_l - STEP_SIZE\n",
    "        x_r = x_r + STEP_SIZE\n",
    "    \n",
    "    return (x_l, x_r)\n",
    "\n",
    "def modify_interval(x_l, x_r, x, x_new):\n",
    "    if (x_new > x):\n",
    "        x_r = x_new\n",
    "    else:\n",
    "        x_l = x_new\n",
    "    return (x_l, x_r)\n",
    "\n",
    "# Pick some arbitrary starting x:\n",
    "x = 5\n",
    "samples = []\n",
    "for sample in range(200000):\n",
    "    # Draw a vertical coodinate u ~ U(0, P*(x))\n",
    "    u = rng.uniform(0, P(x)) \n",
    "    # Create horizontal interval (x_l, x_r) enclosing x\n",
    "    (x_l, x_r) = create_interval(x, u)\n",
    "\n",
    "    while True:\n",
    "        x_new = rng.uniform(x_l, x_r)\n",
    "        value = P(x_new)\n",
    "        if (value > u):\n",
    "            break\n",
    "        else:\n",
    "            (x_l, x_r) = modify_interval(x_l, x_r, x, x_new)\n",
    "            \n",
    "    samples.append(x_new)"
   ]
  },
  {
   "cell_type": "code",
   "execution_count": 76,
   "metadata": {},
   "outputs": [
    {
     "data": {
      "text/plain": [
       "(array([1.62645692e-05, 0.00000000e+00, 3.25291385e-05, 0.00000000e+00,\n",
       "        0.00000000e+00, 1.62645692e-05, 0.00000000e+00, 6.50582769e-05,\n",
       "        1.62645692e-05, 8.13228462e-05, 4.87937077e-05, 9.75874154e-05,\n",
       "        8.13228462e-05, 1.13851985e-04, 2.11439400e-04, 1.46381123e-04,\n",
       "        1.13851985e-04, 1.62645692e-04, 1.46381123e-04, 2.11439400e-04,\n",
       "        2.92762246e-04, 2.60233108e-04, 2.60233108e-04, 2.43968539e-04,\n",
       "        2.43968539e-04, 2.76497677e-04, 4.06614231e-04, 6.66847339e-04,\n",
       "        4.87937077e-04, 5.04201646e-04, 5.52995354e-04, 6.50582769e-04,\n",
       "        6.34318200e-04, 6.18053631e-04, 6.83111908e-04, 1.02466786e-03,\n",
       "        1.12225528e-03, 1.02466786e-03, 1.65898606e-03, 1.70777977e-03,\n",
       "        2.24451055e-03, 2.87882875e-03, 3.44808868e-03, 3.83843834e-03,\n",
       "        5.09081017e-03, 6.06668433e-03, 7.56302470e-03, 7.93710979e-03,\n",
       "        1.02466786e-02, 1.22797498e-02, 1.43778792e-02, 1.56627802e-02,\n",
       "        1.75982639e-02, 2.16806708e-02, 2.12089983e-02, 2.45269704e-02,\n",
       "        2.50637012e-02, 2.37462711e-02, 2.59419879e-02, 2.44619121e-02,\n",
       "        2.49335846e-02, 2.50149075e-02, 2.58118714e-02, 2.45920287e-02,\n",
       "        2.61696919e-02, 2.56004320e-02, 2.47872035e-02, 2.67877455e-02,\n",
       "        2.55516383e-02, 2.48685264e-02, 2.50637012e-02, 2.52100823e-02,\n",
       "        2.55516383e-02, 2.65600416e-02, 2.75684449e-02, 3.12767666e-02,\n",
       "        3.27893716e-02, 3.66115454e-02, 4.40932472e-02, 4.83545643e-02,\n",
       "        4.79316855e-02, 4.92816448e-02, 4.67769011e-02, 4.73136319e-02,\n",
       "        4.58660852e-02, 4.75738650e-02, 4.76226587e-02, 4.81105958e-02,\n",
       "        4.78666273e-02, 4.81919186e-02, 4.81268604e-02, 4.64028160e-02,\n",
       "        4.86310620e-02, 4.71021925e-02, 4.74112193e-02, 4.82732415e-02,\n",
       "        4.66793137e-02, 4.85009455e-02, 4.99810213e-02, 4.73624256e-02,\n",
       "        4.84521518e-02, 4.73461610e-02, 4.78828918e-02, 4.74437485e-02,\n",
       "        4.71347216e-02, 4.79642147e-02, 4.79642147e-02, 5.03063127e-02,\n",
       "        4.89563534e-02, 4.84033581e-02, 4.91027345e-02, 4.62239058e-02,\n",
       "        4.20439115e-02, 3.69856304e-02, 3.28544299e-02, 3.03171571e-02,\n",
       "        2.80889111e-02, 2.65925707e-02, 2.67389518e-02, 2.48197327e-02,\n",
       "        2.61534273e-02, 2.55841674e-02, 2.56980194e-02, 2.61859565e-02,\n",
       "        2.83328796e-02, 2.78124134e-02, 2.90647852e-02, 3.04310090e-02,\n",
       "        3.07075067e-02, 3.01382468e-02, 2.91298435e-02, 2.93087538e-02,\n",
       "        2.83816733e-02, 2.80238528e-02, 2.53076697e-02, 2.37625357e-02,\n",
       "        2.25426930e-02, 1.86229318e-02, 1.81024656e-02, 1.50935203e-02,\n",
       "        1.34345342e-02, 1.17592836e-02, 9.90512267e-03, 8.26240117e-03,\n",
       "        6.76606080e-03, 5.12333931e-03, 4.66793137e-03, 3.59446980e-03,\n",
       "        3.13906186e-03, 2.35836254e-03, 1.90295460e-03, 1.78910262e-03,\n",
       "        1.39875295e-03, 1.08972614e-03, 1.04093243e-03, 1.02466786e-03,\n",
       "        9.75874154e-04, 8.29493031e-04, 7.15641046e-04, 6.18053631e-04,\n",
       "        3.90349662e-04, 3.90349662e-04, 4.39143369e-04, 3.57820523e-04,\n",
       "        4.55407939e-04, 3.41555954e-04, 3.25291385e-04, 3.41555954e-04,\n",
       "        1.95174831e-04, 3.90349662e-04, 1.78910262e-04, 2.60233108e-04,\n",
       "        2.43968539e-04, 2.11439400e-04, 6.50582769e-05, 2.11439400e-04,\n",
       "        1.95174831e-04, 1.13851985e-04, 6.50582769e-05, 8.13228462e-05,\n",
       "        9.75874154e-05, 4.87937077e-05, 0.00000000e+00, 3.25291385e-05,\n",
       "        1.62645692e-05, 3.25291385e-05, 1.62645692e-05, 1.62645692e-05,\n",
       "        0.00000000e+00, 0.00000000e+00, 0.00000000e+00, 0.00000000e+00,\n",
       "        1.62645692e-05, 1.62645692e-05, 0.00000000e+00, 0.00000000e+00,\n",
       "        0.00000000e+00, 0.00000000e+00, 0.00000000e+00, 1.62645692e-05]),\n",
       " array([-29.32525544, -29.01783875, -28.71042206, -28.40300537,\n",
       "        -28.09558869, -27.788172  , -27.48075531, -27.17333862,\n",
       "        -26.86592194, -26.55850525, -26.25108856, -25.94367187,\n",
       "        -25.63625519, -25.3288385 , -25.02142181, -24.71400512,\n",
       "        -24.40658844, -24.09917175, -23.79175506, -23.48433837,\n",
       "        -23.17692169, -22.869505  , -22.56208831, -22.25467162,\n",
       "        -21.94725494, -21.63983825, -21.33242156, -21.02500487,\n",
       "        -20.71758818, -20.4101715 , -20.10275481, -19.79533812,\n",
       "        -19.48792143, -19.18050475, -18.87308806, -18.56567137,\n",
       "        -18.25825468, -17.950838  , -17.64342131, -17.33600462,\n",
       "        -17.02858793, -16.72117125, -16.41375456, -16.10633787,\n",
       "        -15.79892118, -15.4915045 , -15.18408781, -14.87667112,\n",
       "        -14.56925443, -14.26183775, -13.95442106, -13.64700437,\n",
       "        -13.33958768, -13.032171  , -12.72475431, -12.41733762,\n",
       "        -12.10992093, -11.80250424, -11.49508756, -11.18767087,\n",
       "        -10.88025418, -10.57283749, -10.26542081,  -9.95800412,\n",
       "         -9.65058743,  -9.34317074,  -9.03575406,  -8.72833737,\n",
       "         -8.42092068,  -8.11350399,  -7.80608731,  -7.49867062,\n",
       "         -7.19125393,  -6.88383724,  -6.57642056,  -6.26900387,\n",
       "         -5.96158718,  -5.65417049,  -5.34675381,  -5.03933712,\n",
       "         -4.73192043,  -4.42450374,  -4.11708706,  -3.80967037,\n",
       "         -3.50225368,  -3.19483699,  -2.8874203 ,  -2.58000362,\n",
       "         -2.27258693,  -1.96517024,  -1.65775355,  -1.35033687,\n",
       "         -1.04292018,  -0.73550349,  -0.4280868 ,  -0.12067012,\n",
       "          0.18674657,   0.49416326,   0.80157995,   1.10899663,\n",
       "          1.41641332,   1.72383001,   2.0312467 ,   2.33866338,\n",
       "          2.64608007,   2.95349676,   3.26091345,   3.56833013,\n",
       "          3.87574682,   4.18316351,   4.4905802 ,   4.79799689,\n",
       "          5.10541357,   5.41283026,   5.72024695,   6.02766364,\n",
       "          6.33508032,   6.64249701,   6.9499137 ,   7.25733039,\n",
       "          7.56474707,   7.87216376,   8.17958045,   8.48699714,\n",
       "          8.79441382,   9.10183051,   9.4092472 ,   9.71666389,\n",
       "         10.02408057,  10.33149726,  10.63891395,  10.94633064,\n",
       "         11.25374732,  11.56116401,  11.8685807 ,  12.17599739,\n",
       "         12.48341407,  12.79083076,  13.09824745,  13.40566414,\n",
       "         13.71308083,  14.02049751,  14.3279142 ,  14.63533089,\n",
       "         14.94274758,  15.25016426,  15.55758095,  15.86499764,\n",
       "         16.17241433,  16.47983101,  16.7872477 ,  17.09466439,\n",
       "         17.40208108,  17.70949776,  18.01691445,  18.32433114,\n",
       "         18.63174783,  18.93916451,  19.2465812 ,  19.55399789,\n",
       "         19.86141458,  20.16883126,  20.47624795,  20.78366464,\n",
       "         21.09108133,  21.39849801,  21.7059147 ,  22.01333139,\n",
       "         22.32074808,  22.62816477,  22.93558145,  23.24299814,\n",
       "         23.55041483,  23.85783152,  24.1652482 ,  24.47266489,\n",
       "         24.78008158,  25.08749827,  25.39491495,  25.70233164,\n",
       "         26.00974833,  26.31716502,  26.6245817 ,  26.93199839,\n",
       "         27.23941508,  27.54683177,  27.85424845,  28.16166514,\n",
       "         28.46908183,  28.77649852,  29.0839152 ,  29.39133189,\n",
       "         29.69874858,  30.00616527,  30.31358196,  30.62099864,\n",
       "         30.92841533,  31.23583202,  31.54324871,  31.85066539,\n",
       "         32.15808208]),\n",
       " <BarContainer object of 200 artists>)"
      ]
     },
     "execution_count": 76,
     "metadata": {},
     "output_type": "execute_result"
    },
    {
     "data": {
      "image/png": "[encoded data removed]",
      "text/plain": [
       "<Figure size 432x288 with 1 Axes>"
      ]
     },
     "metadata": {
      "needs_background": "light"
     },
     "output_type": "display_data"
    }
   ],
   "source": [
    "plt.hist(samples, bins=200, density=True)"
   ]
  },
  {
   "cell_type": "code",
   "execution_count": null,
   "metadata": {},
   "outputs": [],
   "source": []
  }
 ],
 "metadata": {
  "kernelspec": {
   "display_name": "Python 3",
   "language": "python",
   "name": "python3"
  },
  "language_info": {
   "codemirror_mode": {
    "name": "ipython",
    "version": 3
   },
   "file_extension": ".py",
   "mimetype": "text/x-python",
   "name": "python",
   "nbconvert_exporter": "python",
   "pygments_lexer": "ipython3",
   "version": "3.8.5"
  }
 },
 "nbformat": 4,
 "nbformat_minor": 4
}
