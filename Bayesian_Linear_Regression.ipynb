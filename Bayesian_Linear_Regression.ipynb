{
 "cells": [
  {
   "cell_type": "code",
   "execution_count": 80,
   "metadata": {},
   "outputs": [],
   "source": [
    "import numpy as np\n",
    "import pandas as pd\n",
    "import math\n",
    "from scipy.stats import multivariate_normal\n",
    "from matplotlib import pyplot as plt\n",
    "from numpy.random import default_rng\n",
    "rng = default_rng()"
   ]
  },
  {
   "cell_type": "markdown",
   "metadata": {},
   "source": []
  },
  {
   "cell_type": "code",
   "execution_count": 81,
   "metadata": {},
   "outputs": [
    {
     "data": {
      "text/html": [
       "<div>\n",
       "<style scoped>\n",
       "    .dataframe tbody tr th:only-of-type {\n",
       "        vertical-align: middle;\n",
       "    }\n",
       "\n",
       "    .dataframe tbody tr th {\n",
       "        vertical-align: top;\n",
       "    }\n",
       "\n",
       "    .dataframe thead th {\n",
       "        text-align: right;\n",
       "    }\n",
       "</style>\n",
       "<table border=\"1\" class=\"dataframe\">\n",
       "  <thead>\n",
       "    <tr style=\"text-align: right;\">\n",
       "      <th></th>\n",
       "      <th>No</th>\n",
       "      <th>X1 transaction date</th>\n",
       "      <th>X2 house age</th>\n",
       "      <th>X3 distance to the nearest MRT station</th>\n",
       "      <th>X4 number of convenience stores</th>\n",
       "      <th>X5 latitude</th>\n",
       "      <th>X6 longitude</th>\n",
       "      <th>Y house price of unit area</th>\n",
       "    </tr>\n",
       "  </thead>\n",
       "  <tbody>\n",
       "    <tr>\n",
       "      <th>0</th>\n",
       "      <td>1</td>\n",
       "      <td>2012.917</td>\n",
       "      <td>32.0</td>\n",
       "      <td>84.87882</td>\n",
       "      <td>10</td>\n",
       "      <td>24.98298</td>\n",
       "      <td>121.54024</td>\n",
       "      <td>37.9</td>\n",
       "    </tr>\n",
       "    <tr>\n",
       "      <th>1</th>\n",
       "      <td>2</td>\n",
       "      <td>2012.917</td>\n",
       "      <td>19.5</td>\n",
       "      <td>306.59470</td>\n",
       "      <td>9</td>\n",
       "      <td>24.98034</td>\n",
       "      <td>121.53951</td>\n",
       "      <td>42.2</td>\n",
       "    </tr>\n",
       "    <tr>\n",
       "      <th>2</th>\n",
       "      <td>3</td>\n",
       "      <td>2013.583</td>\n",
       "      <td>13.3</td>\n",
       "      <td>561.98450</td>\n",
       "      <td>5</td>\n",
       "      <td>24.98746</td>\n",
       "      <td>121.54391</td>\n",
       "      <td>47.3</td>\n",
       "    </tr>\n",
       "    <tr>\n",
       "      <th>3</th>\n",
       "      <td>4</td>\n",
       "      <td>2013.500</td>\n",
       "      <td>13.3</td>\n",
       "      <td>561.98450</td>\n",
       "      <td>5</td>\n",
       "      <td>24.98746</td>\n",
       "      <td>121.54391</td>\n",
       "      <td>54.8</td>\n",
       "    </tr>\n",
       "    <tr>\n",
       "      <th>4</th>\n",
       "      <td>5</td>\n",
       "      <td>2012.833</td>\n",
       "      <td>5.0</td>\n",
       "      <td>390.56840</td>\n",
       "      <td>5</td>\n",
       "      <td>24.97937</td>\n",
       "      <td>121.54245</td>\n",
       "      <td>43.1</td>\n",
       "    </tr>\n",
       "  </tbody>\n",
       "</table>\n",
       "</div>"
      ],
      "text/plain": [
       "   No  X1 transaction date  X2 house age  \\\n",
       "0   1             2012.917          32.0   \n",
       "1   2             2012.917          19.5   \n",
       "2   3             2013.583          13.3   \n",
       "3   4             2013.500          13.3   \n",
       "4   5             2012.833           5.0   \n",
       "\n",
       "   X3 distance to the nearest MRT station  X4 number of convenience stores  \\\n",
       "0                                84.87882                               10   \n",
       "1                               306.59470                                9   \n",
       "2                               561.98450                                5   \n",
       "3                               561.98450                                5   \n",
       "4                               390.56840                                5   \n",
       "\n",
       "   X5 latitude  X6 longitude  Y house price of unit area  \n",
       "0     24.98298     121.54024                        37.9  \n",
       "1     24.98034     121.53951                        42.2  \n",
       "2     24.98746     121.54391                        47.3  \n",
       "3     24.98746     121.54391                        54.8  \n",
       "4     24.97937     121.54245                        43.1  "
      ]
     },
     "execution_count": 81,
     "metadata": {},
     "output_type": "execute_result"
    }
   ],
   "source": [
    "data = pd.read_csv(\"data/Real estate.csv\")\n",
    "data.head()"
   ]
  },
  {
   "cell_type": "code",
   "execution_count": 83,
   "metadata": {},
   "outputs": [
    {
     "data": {
      "text/plain": [
       "Index(['No', 'X1 transaction date', 'X2 house age',\n",
       "       'X3 distance to the nearest MRT station',\n",
       "       'X4 number of convenience stores', 'X5 latitude', 'X6 longitude',\n",
       "       'Y house price of unit area'],\n",
       "      dtype='object')"
      ]
     },
     "execution_count": 83,
     "metadata": {},
     "output_type": "execute_result"
    }
   ],
   "source": [
    "data.columns"
   ]
  },
  {
   "cell_type": "code",
   "execution_count": 84,
   "metadata": {},
   "outputs": [
    {
     "data": {
      "text/plain": [
       "<matplotlib.collections.PathCollection at 0x7f27364a65e0>"
      ]
     },
     "execution_count": 84,
     "metadata": {},
     "output_type": "execute_result"
    },
    {
     "data": {
      "image/png": "[encoded data removed]",
      "text/plain": [
       "<Figure size 432x288 with 1 Axes>"
      ]
     },
     "metadata": {
      "needs_background": "light"
     },
     "output_type": "display_data"
    }
   ],
   "source": [
    "plt.scatter(data['X4 number of convenience stores'], data['Y house price of unit area'])"
   ]
  },
  {
   "cell_type": "markdown",
   "metadata": {},
   "source": [
    "## Problem\n",
    "We want a model of house prices given a bunch of other factors.\n",
    "That is, we would love a function $$f(\\mathbf{x}, \\mathbf{w})$$ which outputs a house price given the inputs and model parameters.\n",
    "\n",
    "Unfortunately, we are only able to measure a noisy estimate of this function:\n",
    "$$ \\begin{aligned}\n",
    "    t &= f(\\mathbf{x}, \\mathbf{w}) + \\epsilon \\\\\n",
    "    \\epsilon &\\sim \\mathcal{N}(0, \\beta^{-1}) \\\\\n",
    "    \\Leftrightarrow t &\\sim \\mathcal{N}(f(\\mathbf{x}, \\mathbf{w}), \\beta^{-1}) \\\\\n",
    "\\end{aligned} $$\n",
    "\n",
    "We want to make informed/interesting observations about the relationship between house prices and inputs given the observed dataset: $$ p(t | \\mathbf{x}, \\mathcal{D}) $$\n",
    "\n",
    "## Model\n",
    "Let's **assume** that the function $y$ is of the form:\n",
    "$$ y(\\mathbf{x}, \\mathbf{w}) = w_0 + \\sum_{j=0}^{M-1} w_j \\phi_j(\\mathbf{x}) $$\n",
    "$M$ is the number of model parameters\n",
    "What this is saying is that:\n",
    "We're assuming that our targets are a linear function of the parameters ${w_j}$\n",
    "$$y(\\mathbf{x}, \\mathbf{w}) = w_0 f_0(\\mathbf{x}) + w_1 f_1(\\mathbf{x})+ w_2 f_2(\\mathbf{x})+ \\cdots + w_{M-1}  f_{M-1}(\\mathbf{x}) $$\n",
    "\n",
    "*What are the weird $\\phi$ functions?*  \n",
    "These are basis functions, they do not need to be linear in $\\mathbf{x}$.\n",
    "\n",
    "*What about $f_0 (\\mathbf{x})$?*  \n",
    "We define $\\phi_0(\\mathbf{x}) = 1$  \n",
    "*Why?*  \n",
    "So that we can write our model as:\n",
    "$$ y(\\mathbf{x}, \\mathbf{w}) = \\mathbf{w}^\\top \\mathbf{\\phi}(\\mathbf{x}) $$\n",
    "Where we define \n",
    "$$ \\mathbf{\\phi}(\\mathbf{x}) = \\begin{bmatrix} \\phi_0 (x_0) \\\\ \\phi_1 (x_1) \\\\ \\vdots \\\\ \\phi_{M-1} (x_{M-1}) \\end{bmatrix} $$\n",
    "\n",
    "### Using our model\n",
    "So, we have designed a function $y(\\mathbf{x}, \\mathbf{w})$.  \n",
    "We should note that unless we got extremely lucky, $y(\\mathbf{x}, \\mathbf{w}) \\ne f(\\mathbf{x}, \\mathbf{w})$ exactly, so our selection of model will introduce some error (unfortunately).  \n",
    "That being said, we can still *try*:\n",
    "$$\n",
    "\\begin{aligned}\n",
    "    p(t| \\mathbf{x}, \\mathbf{w}) &= \\mathcal{N}(f(\\mathbf{x}, \\mathbf{w}), \\beta^{-1}) \\\\\n",
    "    &\\approx \\mathcal{N}(y(\\mathbf{x}, \\mathbf{w}), \\beta^{-1}) \\\\\n",
    "    &= \\mathcal{N}(\\mathbf{w}^\\top \\mathbf{\\phi}(\\mathbf{x}), \\beta^{-1})\n",
    "\\end{aligned}\n",
    "$$\n",
    "\n",
    "\n",
    "Remember, at the end of the day we **want** $p(t | \\mathbf{x}, \\mathcal{D})$ and we **have**: $p(t|\\mathbf{x} , \\mathbf{w})$  (or at least a model for it). Let's perform some manipulations to represent what we **want in terms of what we have** (+ other stuff)\n",
    "$$ \n",
    "\\begin{aligned}\n",
    "    p(t | \\mathbf{x} , \\mathcal{D}) &= \\int p(t, \\mathbf{w} | \\mathbf{w}, \\mathcal{D}) d\\mathbf{w} \\\\\n",
    "    &= \\int p(t | \\mathbf{x}, \\mathbf{w}) p(\\mathbf{w} | \\mathcal{D}) d \\mathbf{w} \n",
    "\\end{aligned}\n",
    "$$\n",
    "\n",
    "The first term in the integral is our model.\n",
    "The second term in the integral is a way to weight our model outputs by the probability of the model parameters in the first place.\n",
    "\n",
    "\n",
    "Applying Bayes Theorem:\n",
    "$$\n",
    "p(\\mathbf{w} | \\mathcal{D}) \\propto p(\\mathbf{w}) p(\\mathcal{D} | \\mathbf{w})\n",
    "$$\n",
    "\n",
    "\n",
    "Notice: we can calculate $p(\\mathcal{D} | \\mathbf{w})$ by just running our model on the dataset we collected."
   ]
  },
  {
   "cell_type": "code",
   "execution_count": 94,
   "metadata": {},
   "outputs": [
    {
     "ename": "SyntaxError",
     "evalue": "invalid syntax (<ipython-input-94-12005a9f1fc8>, line 8)",
     "output_type": "error",
     "traceback": [
      "\u001b[0;36m  File \u001b[0;32m\"<ipython-input-94-12005a9f1fc8>\"\u001b[0;36m, line \u001b[0;32m8\u001b[0m\n\u001b[0;31m    self.likelihood = self.\u001b[0m\n\u001b[0m                           ^\u001b[0m\n\u001b[0;31mSyntaxError\u001b[0m\u001b[0;31m:\u001b[0m invalid syntax\n"
     ]
    }
   ],
   "source": [
    "class BayesianLinearRegression:\n",
    "    def __init__(self, mean_prior, covariance_prior, noise_precision):\n",
    "        # prior on w\n",
    "        # prior on the model parameters\n",
    "        # there are len(mean_prior) model parameters\n",
    "        self.prior = multivariate_normal(mean=mean_prior, cov=covariance_prior)\n",
    "        \n",
    "        self.likelihood = self.\n",
    "        \n",
    "    def unnormalised_posterior(self)"
   ]
  },
  {
   "cell_type": "code",
   "execution_count": 90,
   "metadata": {},
   "outputs": [
    {
     "data": {
      "text/plain": [
       "array([0.00443185, 0.05399097, 0.24197072, 0.39894228, 0.39894228,\n",
       "       0.24197072, 0.        ])"
      ]
     },
     "execution_count": 90,
     "metadata": {},
     "output_type": "execute_result"
    }
   ],
   "source": [
    "multivariate_normal(mean=4, cov=1).pdf([1,2,3,4,4,5,44343234])"
   ]
  },
  {
   "cell_type": "code",
   "execution_count": null,
   "metadata": {},
   "outputs": [],
   "source": []
  }
 ],
 "metadata": {
  "kernelspec": {
   "display_name": "Python 3",
   "language": "python",
   "name": "python3"
  },
  "language_info": {
   "codemirror_mode": {
    "name": "ipython",
    "version": 3
   },
   "file_extension": ".py",
   "mimetype": "text/x-python",
   "name": "python",
   "nbconvert_exporter": "python",
   "pygments_lexer": "ipython3",
   "version": "3.8.5"
  }
 },
 "nbformat": 4,
 "nbformat_minor": 4
}
